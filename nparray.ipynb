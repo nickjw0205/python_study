{
 "cells": [
  {
   "cell_type": "code",
   "execution_count": 3,
   "metadata": {},
   "outputs": [],
   "source": [
    "import numpy as np"
   ]
  },
  {
   "cell_type": "code",
   "execution_count": 6,
   "metadata": {},
   "outputs": [
    {
     "name": "stdout",
     "output_type": "stream",
     "text": [
      "tmp_array_1 type:  <class 'numpy.ndarray'>\n",
      "tmp_array_1 shape:  (3,)\n",
      "tmp_array_1 type:  <class 'numpy.ndarray'>\n",
      "tmp_array_1 shape:  (2, 3)\n",
      "tmp_array_1 type:  <class 'numpy.ndarray'>\n",
      "tmp_array_1 shape:  (3, 3)\n",
      "tmp_array_1 type:  <class 'numpy.ndarray'>\n",
      "tmp_array_1 shape:  (1, 3)\n"
     ]
    }
   ],
   "source": [
    "tmp_ararry_1 = np.array([1,2,3])\n",
    "print('tmp_array_1 type: ', type(tmp_ararry_1))\n",
    "print('tmp_array_1 shape: ', tmp_ararry_1.shape)\n",
    "\n",
    "tmp_ararry_2 = np.array([[1,2,3],\n",
    "                        [4,5,6]])\n",
    "print('tmp_array_1 type: ', type(tmp_ararry_2))\n",
    "print('tmp_array_1 shape: ', tmp_ararry_2.shape)\n",
    "\n",
    "tmp_ararry_3 = np.array([[1,2,3],\n",
    "                         [4,5,6],\n",
    "                         [7,8,9]])\n",
    "print('tmp_array_1 type: ', type(tmp_ararry_3))\n",
    "print('tmp_array_1 shape: ', tmp_ararry_3.shape)\n",
    "\n",
    "tmp_ararry_4 = np.array([[1,2,3]])\n",
    "print('tmp_array_1 type: ', type(tmp_ararry_4))\n",
    "print('tmp_array_1 shape: ', tmp_ararry_4.shape)"
   ]
  },
  {
   "cell_type": "code",
   "execution_count": 7,
   "metadata": {},
   "outputs": [
    {
     "name": "stdout",
     "output_type": "stream",
     "text": [
      "tmp_array_1's dimension:  1\n"
     ]
    }
   ],
   "source": [
    "print(\"tmp_array_1's dimension: \", format(tmp_ararry_1.ndim) )"
   ]
  },
  {
   "cell_type": "code",
   "execution_count": 8,
   "metadata": {},
   "outputs": [
    {
     "name": "stdout",
     "output_type": "stream",
     "text": [
      "<class 'list'>\n",
      "<class 'numpy.ndarray'>\n",
      "int32\n"
     ]
    }
   ],
   "source": [
    "list = [1,2,3]\n",
    "print(type(list))\n",
    "\n",
    "array1 = np.array(list)\n",
    "print(type(array1))\n",
    "print(array1.dtype)"
   ]
  },
  {
   "cell_type": "code",
   "execution_count": 12,
   "metadata": {},
   "outputs": [
    {
     "name": "stdout",
     "output_type": "stream",
     "text": [
      "[0 1 2 3 4 5 6 7 8 9]\n",
      "(10,) int32\n",
      "[1 2 3 4 5 6 7 8 9]\n",
      "(9,) int32\n"
     ]
    }
   ],
   "source": [
    "#arange를 통해 연속적인 숫자의 nparray를 만들 수 있다.\n",
    "ar_array = np.arange(10)\n",
    "print(ar_array)\n",
    "print(ar_array.shape, ar_array.dtype)\n",
    "\n",
    "#start와 stop으로 시작과 끝을 정해줄 수 있다.\n",
    "ar_array1 = np.arange(start = 1, stop = 10)\n",
    "print(ar_array1)\n",
    "print(ar_array1.shape, ar_array1.dtype)"
   ]
  },
  {
   "cell_type": "code",
   "execution_count": 16,
   "metadata": {},
   "outputs": [
    {
     "name": "stdout",
     "output_type": "stream",
     "text": [
      "[[0 0]\n",
      " [0 0]\n",
      " [0 0]]\n",
      "int32 (3, 2)\n",
      "\n",
      "[[1. 1.]\n",
      " [1. 1.]\n",
      " [1. 1.]]\n",
      "float64 (3, 2)\n"
     ]
    }
   ],
   "source": [
    "#\"zeros\"를 사용하여 모든 값을 0으로 채운 nparray를 만들 수 있다.\n",
    "z_array = np.zeros((3,2), dtype = 'int32')\n",
    "print(z_array)\n",
    "print(z_array.dtype, z_array.shape)\n",
    "\n",
    "print()\n",
    "#'ones'도 zoers와 비슷하게 1로 모든 값을 채운 nparray를 준다.\n",
    "o_array = np.ones((3,2))\n",
    "print(o_array)\n",
    "print(o_array.dtype, o_array.shape)"
   ]
  },
  {
   "cell_type": "code",
   "execution_count": 20,
   "metadata": {},
   "outputs": [
    {
     "name": "stdout",
     "output_type": "stream",
     "text": [
      "[0 1 2 3 4 5 6 7 8 9] \n",
      "\n",
      "[[0 1 2 3 4]\n",
      " [5 6 7 8 9]] \n",
      "\n",
      "[[0 1]\n",
      " [2 3]\n",
      " [4 5]\n",
      " [6 7]\n",
      " [8 9]] \n",
      "\n"
     ]
    }
   ],
   "source": [
    "array1 = np.arange(10)\n",
    "print(array1,\"\\n\")\n",
    "\n",
    "array2 = array1.reshape(2,5)\n",
    "print(array2,\"\\n\")\n",
    "\n",
    "array3 = array1.reshape(5,2)\n",
    "print(array3,\"\\n\")"
   ]
  },
  {
   "cell_type": "code",
   "execution_count": 21,
   "metadata": {},
   "outputs": [
    {
     "ename": "ValueError",
     "evalue": "cannot reshape array of size 10 into shape (3,3)",
     "output_type": "error",
     "traceback": [
      "\u001b[1;31m---------------------------------------------------------------------------\u001b[0m",
      "\u001b[1;31mValueError\u001b[0m                                Traceback (most recent call last)",
      "\u001b[1;32m<ipython-input-21-d8d682d1ffc3>\u001b[0m in \u001b[0;36m<module>\u001b[1;34m\u001b[0m\n\u001b[0;32m      1\u001b[0m \u001b[1;31m#10은 3으로 나눠지지 않으므로 에러가 난다.\u001b[0m\u001b[1;33m\u001b[0m\u001b[1;33m\u001b[0m\u001b[1;33m\u001b[0m\u001b[0m\n\u001b[1;32m----> 2\u001b[1;33m \u001b[0marray1\u001b[0m\u001b[1;33m.\u001b[0m\u001b[0mreshape\u001b[0m\u001b[1;33m(\u001b[0m\u001b[1;36m3\u001b[0m\u001b[1;33m,\u001b[0m\u001b[1;36m3\u001b[0m\u001b[1;33m)\u001b[0m\u001b[1;33m\u001b[0m\u001b[1;33m\u001b[0m\u001b[0m\n\u001b[0m",
      "\u001b[1;31mValueError\u001b[0m: cannot reshape array of size 10 into shape (3,3)"
     ]
    }
   ],
   "source": [
    "#10은 3으로 나눠지지 않으므로 에러가 난다.\n",
    "array1.reshape(3,3)"
   ]
  },
  {
   "cell_type": "code",
   "execution_count": 25,
   "metadata": {},
   "outputs": [
    {
     "name": "stdout",
     "output_type": "stream",
     "text": [
      "[[0 1 2 3 4]\n",
      " [5 6 7 8 9]] \n",
      "\n",
      "[[0 1]\n",
      " [2 3]\n",
      " [4 5]\n",
      " [6 7]\n",
      " [8 9]]\n"
     ]
    }
   ],
   "source": [
    "array1 = np.arange(10)\n",
    "\n",
    "array2 = array1.reshape(-1,5)\n",
    "print(array2, \"\\n\")\n",
    "\n",
    "array3 = array1.reshape(5,-1)\n",
    "print(array3)"
   ]
  },
  {
   "cell_type": "code",
   "execution_count": 33,
   "metadata": {},
   "outputs": [
    {
     "name": "stdout",
     "output_type": "stream",
     "text": [
      "int32 , [[[0 1]\n",
      "  [2 3]]\n",
      "\n",
      " [[4 5]\n",
      "  [6 7]]] \n",
      "\n",
      "[[[0, 1], [2, 3]], [[4, 5], [6, 7]]]\n"
     ]
    }
   ],
   "source": [
    "array1 = np.arange(8)\n",
    "\n",
    "array2 = array1.reshape(2,2,2)\n",
    "print(array2.dtype ,\",\", array2, \"\\n\")\n",
    "\n",
    "#tolist()를 통해 데이터 타입을 list로 변경할 수 있다.\n",
    "array3 = array2.tolist()\n",
    "print(array3)"
   ]
  },
  {
   "cell_type": "code",
   "execution_count": 11,
   "metadata": {},
   "outputs": [
    {
     "name": "stdout",
     "output_type": "stream",
     "text": [
      "[1 2 3 4 5 6 7 8 9]\n",
      "[1 2 3]\n",
      "[1 2 3 4 5 6 7 8 9]\n",
      "[1 2 3 4 5 6 7 8 9]\n"
     ]
    }
   ],
   "source": [
    "array1 = np.arange(start=1, stop=10)\n",
    "print(array1)\n",
    "\n",
    "#1번째 부터 3번째까지\n",
    "array2 = array1[0:3]\n",
    "print(array2)\n",
    "\n",
    "array3 = array1[0:]\n",
    "print(array3)\n",
    "\n",
    "array4 = array1[:]\n",
    "print(array4)"
   ]
  },
  {
   "cell_type": "code",
   "execution_count": 17,
   "metadata": {},
   "outputs": [
    {
     "name": "stdout",
     "output_type": "stream",
     "text": [
      "[1 2 3 4 5 6 7 8 9]\n",
      "[False False False False False  True  True  True  True]\n",
      "bool\n"
     ]
    }
   ],
   "source": [
    "array1 = np.arange(start = 1, stop = 10)\n",
    "print(array1)\n",
    "\n",
    "#boolean indexing 가능\n",
    "bo_array = array1 > 5\n",
    "\n",
    "print(bo_array)\n",
    "print(bo_array.dtype)"
   ]
  },
  {
   "cell_type": "code",
   "execution_count": 22,
   "metadata": {},
   "outputs": [
    {
     "name": "stdout",
     "output_type": "stream",
     "text": [
      "[False False False False False  True  True  True  True]\n",
      "[6 7 8 9]\n"
     ]
    }
   ],
   "source": [
    "boolean_index = np.array(bo_array.tolist())\n",
    "\n",
    "print(boolean_index)\n",
    "\n",
    "#boolean리스트를 통해 True인 값만 반환 가능\n",
    "array3 = array1[boolean_index]\n",
    "print(array3)"
   ]
  },
  {
   "cell_type": "code",
   "execution_count": 32,
   "metadata": {},
   "outputs": [
    {
     "name": "stdout",
     "output_type": "stream",
     "text": [
      "[5 2 7 3 1]\n",
      "[5 2 7 3 1]\n",
      "[1 2 3 5 7]\n",
      "None\n",
      "[1 2 3 5 7]\n"
     ]
    }
   ],
   "source": [
    "#sort()\n",
    "\n",
    "unsorted_array = np.array([5,2,7,3,1])\n",
    "print(unsorted_array)\n",
    "\n",
    "#반환해주는 형식\n",
    "np.sort(unsorted_array)\n",
    "print(unsorted_array)\n",
    "\n",
    "sorted_array = np.sort(unsorted_array)\n",
    "print(sorted_array)\n",
    "\n",
    "#반환해주지않고 원본 배열이 바뀜\n",
    "sorted_array2 = unsorted_array.sort()\n",
    "print(sorted_array2)\n",
    "\n",
    "print(unsorted_array)"
   ]
  },
  {
   "cell_type": "code",
   "execution_count": 34,
   "metadata": {},
   "outputs": [
    {
     "name": "stdout",
     "output_type": "stream",
     "text": [
      "[7 5 3 2 1]\n"
     ]
    }
   ],
   "source": [
    "#내림차순도 가능하다.\n",
    "unsorted_array = np.array([5,2,7,3,1])\n",
    "\n",
    "des_sorted_array = np.sort(unsorted_array)[::-1]\n",
    "print(des_sorted_array)"
   ]
  },
  {
   "cell_type": "code",
   "execution_count": 40,
   "metadata": {},
   "outputs": [
    {
     "name": "stdout",
     "output_type": "stream",
     "text": [
      "[[8 5]\n",
      " [6 4]] \n",
      "\n",
      "[[6 4]\n",
      " [8 5]] \n",
      "\n",
      "[[5 8]\n",
      " [4 6]] \n",
      "\n"
     ]
    }
   ],
   "source": [
    "array1 = np.array([[8,5],\n",
    "                  [6,4]])\n",
    "print(array1, \"\\n\")\n",
    "\n",
    "#row방향 정렬\n",
    "print(np.sort(array1, axis = 0), \"\\n\")\n",
    "\n",
    "#column방향 정렬\n",
    "print(np.sort(array1, axis = 1), \"\\n\")"
   ]
  },
  {
   "cell_type": "code",
   "execution_count": 42,
   "metadata": {},
   "outputs": [
    {
     "name": "stdout",
     "output_type": "stream",
     "text": [
      "[1 3 0 2]\n",
      "[2 0 3 1]\n"
     ]
    }
   ],
   "source": [
    "#argsort()\n",
    "\n",
    "array1 = np.array([3,1,5,2])\n",
    "\n",
    "so_idx = np.argsort(array1)\n",
    "print(so_idx)\n",
    "\n",
    "so_idx = np.argsort(array1)[::-1]\n",
    "print(so_idx)"
   ]
  },
  {
   "cell_type": "code",
   "execution_count": 48,
   "metadata": {},
   "outputs": [
    {
     "name": "stdout",
     "output_type": "stream",
     "text": [
      "[[ 58  64]\n",
      " [139 154]] \n",
      "\n",
      "[[1 4]\n",
      " [2 5]\n",
      " [3 6]] \n",
      "\n",
      "[[ 7  9 11]\n",
      " [ 8 10 12]]\n"
     ]
    }
   ],
   "source": [
    "#행렬 곱\n",
    "array1 = np.array([[1,2,3],\n",
    "                   [4,5,6]])\n",
    "\n",
    "array2 = np.array([[7,8],\n",
    "                   [9,10],\n",
    "                   [11,12]])\n",
    "\n",
    "array3 = np.dot(array1, array2)\n",
    "print(array3, \"\\n\")\n",
    "\n",
    "#transpose\n",
    "array4 = np.transpose(array1)\n",
    "print(array4, \"\\n\")\n",
    "\n",
    "array5 = np.transpose(array2)\n",
    "print(array5)"
   ]
  },
  {
   "cell_type": "code",
   "execution_count": null,
   "metadata": {},
   "outputs": [],
   "source": []
  }
 ],
 "metadata": {
  "kernelspec": {
   "display_name": "Python 3",
   "language": "python",
   "name": "python3"
  },
  "language_info": {
   "codemirror_mode": {
    "name": "ipython",
    "version": 3
   },
   "file_extension": ".py",
   "mimetype": "text/x-python",
   "name": "python",
   "nbconvert_exporter": "python",
   "pygments_lexer": "ipython3",
   "version": "3.8.3"
  }
 },
 "nbformat": 4,
 "nbformat_minor": 4
}
